{
 "cells": [
  {
   "cell_type": "code",
   "execution_count": 1,
   "metadata": {},
   "outputs": [],
   "source": [
    "import os\n",
    "import torch\n",
    "import torchvision\n",
    "import tarfile\n",
    "import torch.nn as nn\n",
    "import numpy as np\n",
    "import torch.nn.functional as F\n",
    "from torchvision.datasets.utils import download_url\n",
    "from torchvision.datasets import ImageFolder\n",
    "from torch.utils.data import DataLoader\n",
    "from torch.utils.data import TensorDataset\n",
    "import torchvision.transforms as tt\n",
    "from torch.utils.data import random_split\n",
    "from torchvision.utils import make_grid\n",
    "import matplotlib\n",
    "import matplotlib.pyplot as plt\n",
    "%matplotlib inline\n",
    "#import h5py\n",
    "import scipy.io\n",
    "\n",
    "matplotlib.rcParams['figure.facecolor'] = '#ffffff'"
   ]
  },
  {
   "cell_type": "code",
   "execution_count": 2,
   "metadata": {},
   "outputs": [
    {
     "name": "stdout",
     "output_type": "stream",
     "text": [
      "1.8.1\n"
     ]
    }
   ],
   "source": [
    "print(torch.__version__)"
   ]
  },
  {
   "cell_type": "code",
   "execution_count": 3,
   "metadata": {},
   "outputs": [],
   "source": [
    "#f = h5py.File('somefile.mat','r')\n",
    "matdata=scipy.io.loadmat('dataForPythonBIMcmplx25dB.mat')"
   ]
  },
  {
   "cell_type": "code",
   "execution_count": 4,
   "metadata": {},
   "outputs": [],
   "source": [
    "Hatm=matdata['Hatm']\n",
    "Atm=matdata['Atm']\n",
    "N=int((matdata['N']))\n",
    "targetsR=matdata['d_epsaM']\n",
    "targetsI=np.zeros_like(targetsR)\n",
    "nMeas=int((matdata['nMeas']))\n",
    "nRx=int((matdata['nRx']))\n",
    "nTx=int((matdata['nTx']))\n",
    "Np=int((matdata['Np']))\n",
    "Emea=matdata['Emea']\n",
    "Einc=matdata['Ez_inc']\n",
    "#a1tm=matdata['a1tm']\n",
    "#a1tmC=matdata['a1tmC']"
   ]
  },
  {
   "cell_type": "code",
   "execution_count": 5,
   "metadata": {},
   "outputs": [
    {
     "data": {
      "text/plain": [
       "(70000, 4608)"
      ]
     },
     "execution_count": 5,
     "metadata": {},
     "output_type": "execute_result"
    }
   ],
   "source": [
    "targets=np.concatenate((targetsR,targetsI),axis=1)\n",
    "targets.shape"
   ]
  },
  {
   "cell_type": "code",
   "execution_count": 6,
   "metadata": {},
   "outputs": [
    {
     "data": {
      "text/plain": [
       "(70000, 28, 16)"
      ]
     },
     "execution_count": 6,
     "metadata": {},
     "output_type": "execute_result"
    }
   ],
   "source": [
    "inputs=Emea\n",
    "Emea.shape"
   ]
  },
  {
   "cell_type": "code",
   "execution_count": 7,
   "metadata": {},
   "outputs": [],
   "source": [
    "inputs=torch.tensor(inputs,dtype = torch.complex64)\n",
    "targets=torch.tensor(targets,dtype = torch.float32)\n",
    "Hatm=torch.tensor(Hatm,dtype = torch.complex64)\n",
    "Atm=torch.tensor(Atm,dtype = torch.complex128)\n",
    "Einc=torch.tensor(Einc,dtype = torch.complex128)\n",
    "#a1tm=torch.tensor(a1tm,dtype = torch.complex64)\n",
    "#a1tmC=torch.tensor(a1tmC,dtype = torch.complex64)"
   ]
  },
  {
   "cell_type": "code",
   "execution_count": 8,
   "metadata": {},
   "outputs": [],
   "source": [
    "a1tm=Atm[0,:].reshape(Np,Np)\n",
    "a1tm=torch.cat((a1tm[range(Np-1,-1,-1),:],a1tm[range(1,Np,1),:]),dim=0)\n",
    "a1tm=torch.cat((a1tm[:,range(Np-1,-1,-1)],a1tm[:,range(1,Np,1)]),dim=1)\n",
    "a1tmC=torch.fft.fft2(a1tm)"
   ]
  },
  {
   "cell_type": "code",
   "execution_count": 9,
   "metadata": {},
   "outputs": [],
   "source": [
    "valSize=2000\n",
    "testingSize=2000\n",
    "trainingSize=len(inputs)-(valSize+testingSize)\n",
    "train_in, val_in, test_in = torch.split(inputs, [trainingSize, valSize, testingSize])\n",
    "train_tr, val_tr, test_tr = torch.split(targets, [trainingSize, valSize, testingSize])\n",
    "train_ds = TensorDataset(train_in, train_tr)\n",
    "val_ds = TensorDataset(val_in, val_tr)\n",
    "test_ds = TensorDataset(test_in, test_tr)"
   ]
  },
  {
   "cell_type": "code",
   "execution_count": 10,
   "metadata": {},
   "outputs": [
    {
     "name": "stdout",
     "output_type": "stream",
     "text": [
      "66000\n",
      "2000\n",
      "2000\n"
     ]
    }
   ],
   "source": [
    "#print(len(dataset[0:10]))\n",
    "print(len(train_ds))\n",
    "print(len(val_ds))\n",
    "print(len(test_ds))"
   ]
  },
  {
   "cell_type": "code",
   "execution_count": 11,
   "metadata": {},
   "outputs": [],
   "source": [
    "batch_size = 128\n",
    "train_dl = DataLoader(train_ds, batch_size, shuffle=True)\n",
    "val_dl = DataLoader(val_ds, batch_size, shuffle=True)\n",
    "test_dl = DataLoader(test_ds, batch_size, shuffle=True)"
   ]
  },
  {
   "cell_type": "code",
   "execution_count": 12,
   "metadata": {},
   "outputs": [],
   "source": [
    "def get_default_device():\n",
    "    \"\"\"Pick GPU if available, else CPU\"\"\"\n",
    "    if torch.cuda.is_available():\n",
    "        return torch.device('cuda')\n",
    "    else:\n",
    "        return torch.device('cpu')\n",
    "    \n",
    "def to_device(data, device):\n",
    "    \"\"\"Move tensor(s) to chosen device\"\"\"\n",
    "    if isinstance(data, (list,tuple)):\n",
    "        return [to_device(x, device) for x in data]\n",
    "    return data.to(device, non_blocking=True)\n",
    "\n",
    "class DeviceDataLoader():\n",
    "    \"\"\"Wrap a dataloader to move data to a device\"\"\"\n",
    "    def __init__(self, dl, device):\n",
    "        self.dl = dl\n",
    "        self.device = device\n",
    "        \n",
    "    def __iter__(self):\n",
    "        \"\"\"Yield a batch of data after moving it to device\"\"\"\n",
    "        for b in self.dl: \n",
    "            yield to_device(b, self.device)\n",
    "\n",
    "    def __len__(self):\n",
    "        \"\"\"Number of batches\"\"\"\n",
    "        return len(self.dl)"
   ]
  },
  {
   "cell_type": "code",
   "execution_count": 13,
   "metadata": {},
   "outputs": [
    {
     "data": {
      "text/plain": [
       "device(type='cpu')"
      ]
     },
     "execution_count": 13,
     "metadata": {},
     "output_type": "execute_result"
    }
   ],
   "source": [
    "device = get_default_device()\n",
    "device"
   ]
  },
  {
   "cell_type": "code",
   "execution_count": 14,
   "metadata": {},
   "outputs": [],
   "source": [
    "train_dl = DeviceDataLoader(train_dl, device)\n",
    "val_dl = DeviceDataLoader(val_dl, device)\n",
    "test_dl = DeviceDataLoader(test_dl, device)\n",
    "Hatm=to_device(Hatm, device)\n",
    "Atm=to_device(Atm, device)\n",
    "Einc=to_device(Einc, device)\n",
    "a1tm=to_device(a1tm, device)\n",
    "a1tmC=to_device(a1tmC, device)\n",
    "inputs=to_device(inputs, device)\n",
    "targets=to_device(targets, device)"
   ]
  },
  {
   "cell_type": "code",
   "execution_count": 15,
   "metadata": {},
   "outputs": [],
   "source": [
    "class ImageRegressionBase(nn.Module):\n",
    "    def training_step(self, batch):\n",
    "        images, targets = batch \n",
    "        out = self(images)                  # Generate predictions\n",
    "        loss = F.mse_loss(out, targets) # Calculate loss\n",
    "        return loss\n",
    "    \n",
    "    def validation_step(self, batch):\n",
    "        images, targets = batch \n",
    "        out = self(images)                    # Generate predictions\n",
    "        loss = F.mse_loss(out, targets)   # Calculate loss\n",
    "        return {'val_loss': loss.detach()}\n",
    "        \n",
    "    def validation_epoch_end(self, outputs):\n",
    "        batch_losses = [x['val_loss'] for x in outputs]\n",
    "        epoch_loss = torch.stack(batch_losses).mean()   # Combine losses\n",
    "        return {'val_loss': epoch_loss.item()}\n",
    "    \n",
    "    def epoch_end(self, epoch, result):\n",
    "        print(\"Epoch [{}], last_lr: {:.5f}, train_loss: {:.4f}, val_loss: {:.4f}\".format(\n",
    "            epoch, result['lrs'][-1], result['train_loss'], result['val_loss']))"
   ]
  },
  {
   "cell_type": "code",
   "execution_count": 16,
   "metadata": {},
   "outputs": [],
   "source": [
    "negSlop=0.1\n",
    "def conv_block(in_channels, out_channels):\n",
    "    layers = [nn.Conv2d(in_channels, out_channels, kernel_size=3, padding=1), \n",
    "              nn.LeakyReLU(negSlop,inplace=True),\n",
    "              nn.Conv2d(out_channels, out_channels, kernel_size=3, padding=1), \n",
    "              nn.LeakyReLU(negSlop,inplace=True)]\n",
    "    return nn.Sequential(*layers)\n",
    "\n",
    "def conv_block_downsampling(in_channels, out_channels):\n",
    "    layers=nn.ModuleList()\n",
    "    layers.append(nn.MaxPool2d(2, stride=2))\n",
    "    layers.append(conv_block(in_channels, out_channels))\n",
    "    return nn.Sequential(*layers)\n",
    "\n",
    "def conv_block_upsampling(in_channels, out_channels):\n",
    "    layers=nn.ModuleList()\n",
    "    layers.append(conv_block(2*in_channels, in_channels))\n",
    "    layers.append(nn.ConvTranspose2d(in_channels, out_channels, kernel_size=2, stride=2, bias=False))\n",
    "    layers.append(nn.LeakyReLU(negSlop,inplace=True))\n",
    "    return nn.Sequential(*layers)\n",
    "\n",
    "def conv_block_upsamplingF(in_channels, out_channels):\n",
    "    layers=nn.ModuleList()\n",
    "    layers.append(conv_block(2*in_channels, in_channels))\n",
    "    layers.append(nn.Conv2d(in_channels, out_channels, kernel_size=3, padding=1))\n",
    "    layers.append(nn.LeakyReLU(negSlop,inplace=True))\n",
    "    return nn.Sequential(*layers)\n",
    "\n",
    "Nfltr=32\n",
    "class Unet(nn.Module):\n",
    "    def __init__(self, in_channels):\n",
    "        super().__init__()\n",
    "        self.in_channels=in_channels\n",
    "        self.down1 = conv_block(in_channels,Nfltr) #conv_block_downsampling(in_channels, 64,pool=False)\n",
    "        self.down2 = conv_block_downsampling(Nfltr, 2*Nfltr)\n",
    "        self.down3 = conv_block_downsampling(2*Nfltr,4*Nfltr)\n",
    "        self.down4 = nn.ModuleList()\n",
    "        self.down4.append(conv_block_downsampling(4*Nfltr, 8*Nfltr))\n",
    "        self.down4.append(nn.ConvTranspose2d(8*Nfltr, 4*Nfltr, kernel_size=2, stride=2, bias=False))\n",
    "        self.down4.append(nn.LeakyReLU(negSlop,inplace=True))\n",
    "        self.down4=nn.Sequential(*self.down4)\n",
    "        \n",
    "        self.up1=conv_block_upsampling(4*Nfltr, 2*Nfltr)\n",
    "        self.up2=conv_block_upsampling(2*Nfltr, Nfltr)\n",
    "        self.up3=conv_block_upsamplingF(Nfltr, in_channels)\n",
    "        \n",
    "    def forward(self, d_epsR,d_epsI):\n",
    "        xb=torch.cat((d_epsR,d_epsI),dim=1)\n",
    "        xb=torch.reshape(xb,(-1,self.in_channels,Np,Np))\n",
    "        out1 = self.down1(xb)\n",
    "        out2=self.down2(out1)\n",
    "        out3=self.down3(out2)\n",
    "        out4=self.down4(out3)\n",
    "        out5=self.up1(torch.cat((out3,out4),dim=1))\n",
    "        out6=self.up2(torch.cat((out2,out5),dim=1))\n",
    "        out7=self.up3(torch.cat((out1,out6),dim=1))\n",
    "        out=torch.reshape(out7,(-1,self.in_channels*N))\n",
    "        return out[:,0:N], out[:,N:2*N]"
   ]
  },
  {
   "cell_type": "code",
   "execution_count": 20,
   "metadata": {},
   "outputs": [],
   "source": [
    "def HmatMult(Etot,d_eps):\n",
    "    nbatch=d_eps.shape[1]\n",
    "    xout=to_device(torch.zeros((nRx,nbatch,nTx),dtype=torch.complex64), device)\n",
    "    temp=to_device(torch.zeros((N,nbatch),dtype=torch.complex64), device)\n",
    "    for tr in range(nTx):\n",
    "        temp=Etot[:,:,tr]*d_eps\n",
    "        xout[:,:,tr]=Hatm@temp\n",
    "    return -xout\n",
    "\n",
    "def HmatconjMult(Etot,xin):\n",
    "    nbatch=xin.shape[1]\n",
    "    xout=to_device(torch.zeros((N,nbatch)), device)\n",
    "    for tr in range(nTx):\n",
    "        xout=xout+Etot[:,:,tr].conj()*(Hatm.t().conj()@xin[:,:,tr])\n",
    "    return -xout\n",
    "\n",
    "\n",
    "def soft_thresholding(d_eps,delta):\n",
    "    nbatch=d_eps.shape[1]\n",
    "    maxi=torch.zeros_like(d_eps)\n",
    "    maxi=torch.maximum(d_eps.abs()-delta,torch.zeros_like(d_eps.real))\n",
    "    d_eps=(maxi*d_eps)/(maxi+delta);\n",
    "    return d_eps\n",
    "\n",
    "  \n",
    "\n",
    "def BiCGFFTtm(d_eps,y,nmax):\n",
    "    y=torch.reshape(y,(N,1))\n",
    "    nbatch=d_eps.shape[1]\n",
    "    xout=to_device(torch.zeros((N,nbatch),dtype= torch.complex64), device)\n",
    "    if torch.sum(torch.abs(d_eps))<=0.0000000000001:\n",
    "        temp=to_device(torch.zeros((N,nbatch),dtype= torch.complex64), device)\n",
    "        xout=y-temp\n",
    "        del temp\n",
    "    else:\n",
    "        rhoi=1.0*to_device(torch.ones((nbatch),dtype= torch.complex128), device)\n",
    "        alpha=1.0*to_device(torch.ones((nbatch),dtype= torch.complex128), device)\n",
    "        w=1.0*to_device(torch.ones((nbatch),dtype= torch.complex128), device)\n",
    "        v=to_device(torch.zeros((N,nbatch),dtype= torch.complex128), device)\n",
    "        p=to_device(torch.zeros((N,nbatch),dtype= torch.complex128), device)\n",
    "        x=to_device(torch.zeros((N,nbatch),dtype= torch.complex128), device)\n",
    "        temp=to_device(torch.zeros((N,nbatch)), device)\n",
    "        temp=AmultFFT(d_eps,x)\n",
    "        r=y-temp\n",
    "        rhat0=r\n",
    "        for cg_iter in range(nmax):\n",
    "            rhoi_1=rhoi\n",
    "            rhoi=torch.sum(rhat0*r,dim=0)\n",
    "            beta=(rhoi/rhoi_1)*(alpha/w)\n",
    "            p=r+beta*(p-w*v)\n",
    "            v=AmultFFT(d_eps,p)\n",
    "            alpha=rhoi/(torch.sum(rhat0*v,dim=0))\n",
    "            s=r-alpha*v\n",
    "            t=AmultFFT(d_eps,s)\n",
    "            w=(torch.sum(t*s,dim=0))/(torch.sum(t*t,dim=0))\n",
    "            x=x+alpha*p+w*s\n",
    "            r=s-w*t\n",
    "        xout=x\n",
    "    return xout  \n",
    "\n",
    "\n",
    "\n",
    "def AmultFFT(deps,xi):\n",
    "    xi=xi.permute(1,0)\n",
    "    deps=deps.permute(1,0)\n",
    "    nbatch=deps.shape[0]\n",
    "    x=to_device(torch.zeros((nbatch,2*Np-1,2*Np-1),dtype=torch.complex128),device)\n",
    "    x[:,0:Np,0:Np]=torch.reshape(deps*xi,(-1,Np,Np))\n",
    "    xfft=torch.fft.fft2(x)\n",
    "    x=a1tmC*xfft\n",
    "    out=torch.fft.ifft2(x)\n",
    "    out=out[:,Np-1:2*Np-1,Np-1:2*Np-1]\n",
    "    out=out.reshape(nbatch,N)\n",
    "    out=out+xi\n",
    "    return out.permute(1,0)\n",
    "\n",
    "def BiCGtmFFTloop(d_eps,Einc,nmax):\n",
    "    nbatch=d_eps.shape[1]\n",
    "    Etot=to_device(torch.zeros((N,nbatch,nTx),dtype= torch.complex64), device)\n",
    "    for tr in range(nTx):\n",
    "        Etot[:,:,tr]=BiCGFFTtm(d_eps,Einc[:,tr],nmax)\n",
    "    return Etot\n",
    "\n",
    "\n",
    "def power(Etot,maxit):\n",
    "    nbatch=Etot.shape[1]\n",
    "    x=to_device(torch.rand((N,nbatch),dtype= torch.complex64), device)\n",
    "    xn=to_device(torch.zeros((N,nbatch),dtype= torch.complex64), device)\n",
    "    xm=to_device(torch.zeros((N,nbatch),dtype= torch.complex64), device)\n",
    "    xm = HmatMult(Etot,x)\n",
    "    xn = HmatconjMult(Etot,xm)\n",
    "    lammda=torch.sum(x*xn,dim=0)/torch.sum(x*x,dim=0)\n",
    "    x=x/torch.max(x.abs(),dim=0).values\n",
    "    for itr in range(maxit):\n",
    "        xm = HmatMult(Etot,x)\n",
    "        x = HmatconjMult(Etot,xm)\n",
    "        xm = HmatMult(Etot,x)\n",
    "        xn = HmatconjMult(Etot,xm)\n",
    "        lammda0=lammda\n",
    "        lammda=torch.sum(x*xn,dim=0)/torch.sum(x*x,dim=0)\n",
    "        x=x/torch.max(x.abs(),dim=0).values\n",
    "        error=torch.abs(lammda-lammda0)/torch.abs(lammda)\n",
    "    return 1/lammda.real\n",
    "\n",
    "    \n",
    "class ComputeBornSVD(ImageRegressionBase):\n",
    "    def __init__(self,regNet1,regNet2,regNet3,nLW,nbim_iter,nmax,maxit):\n",
    "        super().__init__()\n",
    "        self.regNet1=regNet1\n",
    "        self.regNet2=regNet2\n",
    "        self.regNet3=regNet3\n",
    "        self.nLW=nLW\n",
    "        self.nbim_iter=nbim_iter\n",
    "        self.nmax=nmax\n",
    "        self.maxit=maxit\n",
    "        Etot=to_device(torch.zeros((N,1,nTx),dtype= torch.complex64), device)\n",
    "        Etot[:,0,:]=Einc[:,:]\n",
    "        self.gamma0=power(Etot,maxit)\n",
    "        print(self.gamma0)\n",
    "        \n",
    "    def forward(self, Emea):\n",
    "        nbatch=Emea.shape[0]\n",
    "        d_eps=to_device(torch.zeros((N,nbatch),dtype= torch.complex64), device)\n",
    "        Etot=to_device(torch.zeros((N,nbatch,nTx),dtype= torch.complex64), device)\n",
    "\n",
    "        for batch in range(nbatch):\n",
    "            Etot[:,batch,:]=Einc[:,:]\n",
    "        \n",
    "        for bim_itr in range(self.nbim_iter):\n",
    "            if bim_itr==0:\n",
    "                gamma=self.gamma0\n",
    "            else:\n",
    "                gamma=power(Etot,self.maxit)  \n",
    "        \n",
    "            for lw_itr in range(self.nLW):\n",
    "                xout = HmatMult(Etot,d_eps)\n",
    "                misfit=Emea.permute(1,0,2)-xout\n",
    "                xout = HmatconjMult(Etot,misfit)\n",
    "                d_eps=d_eps+gamma*xout\n",
    "                if bim_itr==0:\n",
    "                    d_epsR,d_epsI=self.regNet1(d_eps.permute(1,0).real,d_eps.permute(1,0).imag)\n",
    "                elif bim_itr==1:\n",
    "                    d_epsR,d_epsI=self.regNet2(d_eps.permute(1,0).real,d_eps.permute(1,0).imag)\n",
    "                elif bim_itr==2:\n",
    "                    d_epsR,d_epsI=self.regNet3(d_eps.permute(1,0).real,d_eps.permute(1,0).imag)\n",
    "                #d_eps=soft_thresholding(d_eps,0.001)\n",
    "                 \n",
    "                d_eps=torch.complex(d_epsR,d_epsI); d_eps=d_eps.permute(1,0)\n",
    "            if bim_itr<(self.nbim_iter-1):\n",
    "                Etot=BiCGtmFFTloop(d_eps,Einc, self.nmax)\n",
    "                \n",
    "        \n",
    "        d_eps=d_eps.permute(1,0)\n",
    "        return torch.cat((d_eps.real,d_eps.imag),dim=1)"
   ]
  },
  {
   "cell_type": "code",
   "execution_count": 22,
   "metadata": {},
   "outputs": [
    {
     "name": "stdout",
     "output_type": "stream",
     "text": [
      "tensor([0.0001])\n"
     ]
    },
    {
     "data": {
      "text/plain": [
       "<All keys matched successfully>"
      ]
     },
     "execution_count": 22,
     "metadata": {},
     "output_type": "execute_result"
    }
   ],
   "source": [
    "#To use the a pre-trained model, the user can run this cell\n",
    "regNet1=Unet(in_channels=2)\n",
    "regNet2=Unet(in_channels=2)\n",
    "regNet3=Unet(in_channels=2)\n",
    "model = to_device(ComputeBornSVD(regNet1=regNet1,regNet2=regNet2,regNet3=regNet3,nLW=6,nbim_iter=3,nmax=4,maxit=5), device)\n",
    "model.regNet1.load_state_dict(torch.load(\"regNet1\", map_location=device))\n",
    "model.regNet2.load_state_dict(torch.load(\"regNet2\", map_location=device))\n",
    "model.regNet3.load_state_dict(torch.load(\"regNet3\", map_location=device))"
   ]
  },
  {
   "cell_type": "code",
   "execution_count": 25,
   "metadata": {},
   "outputs": [
    {
     "name": "stdout",
     "output_type": "stream",
     "text": [
      "torch.Size([128, 28, 16])\n",
      "torch.Size([128, 4608])\n",
      "tensor(11.4625)\n"
     ]
    },
    {
     "data": {
      "image/png": "[encoded data removed]",
      "text/plain": [
       "<Figure size 432x288 with 2 Axes>"
      ]
     },
     "metadata": {},
     "output_type": "display_data"
    }
   ],
   "source": [
    "#To plot results from testing examples over the trained model\n",
    "with torch.no_grad():\n",
    "    for imageI,imageO in test_dl:\n",
    "        print(imageI.shape)\n",
    "        xLW=model(imageI)\n",
    "        print(xLW.shape)\n",
    "        RNE=100*torch.linalg.norm(imageO-xLW, ord='fro')/torch.linalg.norm(imageO, ord='fro')\n",
    "        print(RNE)\n",
    "        indx=0\n",
    "        imageR=torch.reshape(imageO[indx,0:N],(Np,Np))\n",
    "        imageP=torch.reshape(xLW[indx,0:N],(Np,Np))\n",
    "        plt.imshow(imageR.cpu().data.numpy())\n",
    "        plt.colorbar()\n",
    "        break"
   ]
  },
  {
   "cell_type": "code",
   "execution_count": 26,
   "metadata": {},
   "outputs": [
    {
     "data": {
      "text/plain": [
       "(<matplotlib.image.AxesImage at 0x225a3ce3490>,\n",
       " <matplotlib.colorbar.Colorbar at 0x225a3d11160>)"
      ]
     },
     "execution_count": 26,
     "metadata": {},
     "output_type": "execute_result"
    },
    {
     "data": {
      "image/png": "[encoded data removed]",
      "text/plain": [
       "<Figure size 432x288 with 2 Axes>"
      ]
     },
     "metadata": {},
     "output_type": "display_data"
    }
   ],
   "source": [
    "plt.imshow(imageP.cpu().data.numpy()),plt.colorbar()"
   ]
  }
 ],
 "metadata": {
  "kernelspec": {
   "display_name": "Python 3",
   "language": "python",
   "name": "python3"
  },
  "language_info": {
   "codemirror_mode": {
    "name": "ipython",
    "version": 3
   },
   "file_extension": ".py",
   "mimetype": "text/x-python",
   "name": "python",
   "nbconvert_exporter": "python",
   "pygments_lexer": "ipython3",
   "version": "3.8.5"
  }
 },
 "nbformat": 4,
 "nbformat_minor": 4
}
